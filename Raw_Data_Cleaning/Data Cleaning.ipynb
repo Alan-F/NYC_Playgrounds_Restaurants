{
 "cells": [
  {
   "cell_type": "code",
   "execution_count": 2,
   "metadata": {
    "collapsed": false
   },
   "outputs": [
    {
     "name": "stdout",
     "output_type": "stream",
     "text": [
      "Populating the interactive namespace from numpy and matplotlib\n"
     ]
    }
   ],
   "source": [
    "import pandas as pd\n",
    "import geopandas as gpd\n",
    "import numpy as np\n",
    "from fiona.crs import from_epsg\n",
    "from shapely.geometry import Point, Polygon\n",
    "import pysal as ps\n",
    "import pylab as pl\n",
    "%pylab inline\n",
    "import seaborn\n",
    "import re"
   ]
  },
  {
   "cell_type": "markdown",
   "metadata": {},
   "source": [
    "# 1. Playground: Data Cleaning"
   ]
  },
  {
   "cell_type": "code",
   "execution_count": 104,
   "metadata": {
    "collapsed": false
   },
   "outputs": [
    {
     "name": "stdout",
     "output_type": "stream",
     "text": [
      "# of all pg = 1257\n",
      "# of pg with Accessible == 'Y' = 892\n",
      "# of pg with Accessible == 'Y' & Status =='open to the public' = 224\n",
      "pg.crs = {'init': u'epsg:4326'}\n"
     ]
    },
    {
     "data": {
      "text/html": [
       "<div>\n",
       "<table border=\"1\" class=\"dataframe\">\n",
       "  <thead>\n",
       "    <tr style=\"text-align: right;\">\n",
       "      <th></th>\n",
       "      <th>Adaptive_S</th>\n",
       "      <th>Level</th>\n",
       "      <th>Location</th>\n",
       "      <th>Name</th>\n",
       "      <th>School_ID</th>\n",
       "      <th>geometry</th>\n",
       "    </tr>\n",
       "  </thead>\n",
       "  <tbody>\n",
       "    <tr>\n",
       "      <th>0</th>\n",
       "      <td>N</td>\n",
       "      <td>4</td>\n",
       "      <td>43 Snyder Ave, Brooklyn, NY 11226</td>\n",
       "      <td>PS 6K</td>\n",
       "      <td>K006</td>\n",
       "      <td>POINT (-73.95659999999999 40.6489)</td>\n",
       "    </tr>\n",
       "    <tr>\n",
       "      <th>1</th>\n",
       "      <td>N</td>\n",
       "      <td>4</td>\n",
       "      <td>80 Underhill Avenue, Brooklyn, NY 11238</td>\n",
       "      <td>PS 9K</td>\n",
       "      <td>K009</td>\n",
       "      <td>POINT (-73.9658 40.6785)</td>\n",
       "    </tr>\n",
       "  </tbody>\n",
       "</table>\n",
       "</div>"
      ],
      "text/plain": [
       "  Adaptive_S Level                                 Location   Name School_ID  \\\n",
       "0          N     4        43 Snyder Ave, Brooklyn, NY 11226  PS 6K      K006   \n",
       "1          N     4  80 Underhill Avenue, Brooklyn, NY 11238  PS 9K      K009   \n",
       "\n",
       "                             geometry  \n",
       "0  POINT (-73.95659999999999 40.6489)  \n",
       "1            POINT (-73.9658 40.6785)  "
      ]
     },
     "execution_count": 104,
     "metadata": {},
     "output_type": "execute_result"
    }
   ],
   "source": [
    "pg = gpd.read_file(filename='playground.shp')\n",
    "print \"# of all pg = {}\".format(pg.shape[0])\n",
    "\n",
    "# Delete the data with Accessible == N\n",
    "pg = pg[pg.Accessible != 'N']\n",
    "print \"# of pg with Accessible == 'Y' = {}\".format(pg.shape[0])\n",
    "\n",
    "# keep the data with Status == 'open to the public' \n",
    "pg = pg[pg['Status'].apply(lambda x: x != None)]\n",
    "pg.Status = map(str.lower, map(str, pg.Status))\n",
    "pg = pg[pg.Status == 'open to the public']\n",
    "print \"# of pg with Accessible == 'Y' & Status =='open to the public' = {}\".format(pg.shape[0])\n",
    "\n",
    "# Reset index\n",
    "pg = pg.reset_index(drop =True)\n",
    "\n",
    "# pg with selected cols\n",
    "pg = pg.loc[:,['Adaptive_S', 'Level', 'Location', 'Name', 'School_ID', 'geometry']]\n",
    "\n",
    "# View\n",
    "print \"pg.crs = {}\".format(pg.crs)\n",
    "pg.head(2)"
   ]
  },
  {
   "cell_type": "code",
   "execution_count": 105,
   "metadata": {
    "collapsed": false,
    "scrolled": true
   },
   "outputs": [],
   "source": [
    "pg.to_file('pg')"
   ]
  },
  {
   "cell_type": "markdown",
   "metadata": {},
   "source": [
    "<br/>\n",
    "# 2. Restaurant: Data Cleaning"
   ]
  },
  {
   "cell_type": "code",
   "execution_count": 182,
   "metadata": {
    "collapsed": false
   },
   "outputs": [],
   "source": [
    "# rr for restaurant\n",
    "rr = pd.read_csv('NYCRestaurant.csv', header=None)\n",
    "rr = rr.iloc[:, [0,1,2]]\n",
    "rr = rr.rename(columns={0: 'info', 1: 'lat', 2: 'lon'})\n",
    "\n",
    "# geometry\n",
    "rr['lonlat'] = zip(rr.lon, rr.lat)\n",
    "rr['geometry'] = rr[['lonlat']].applymap(lambda x: Point(x))\n",
    "rr = rr.loc[:, ['info', 'geometry']]\n",
    "\n",
    "# to GeoDataFrame\n",
    "rr = gpd.GeoDataFrame(rr)\n",
    "rr.crs = pg.crs\n",
    "rr.to_file(\"rr\")"
   ]
  }
 ],
 "metadata": {
  "anaconda-cloud": {},
  "kernelspec": {
   "display_name": "Python [default]",
   "language": "python",
   "name": "python2"
  },
  "language_info": {
   "codemirror_mode": {
    "name": "ipython",
    "version": 2
   },
   "file_extension": ".py",
   "mimetype": "text/x-python",
   "name": "python",
   "nbconvert_exporter": "python",
   "pygments_lexer": "ipython2",
   "version": "2.7.12"
  }
 },
 "nbformat": 4,
 "nbformat_minor": 1
}
