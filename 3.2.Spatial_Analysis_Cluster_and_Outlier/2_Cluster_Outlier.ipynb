{
 "cells": [
  {
   "cell_type": "code",
   "execution_count": 1,
   "metadata": {
    "collapsed": false
   },
   "outputs": [
    {
     "name": "stdout",
     "output_type": "stream",
     "text": [
      "Populating the interactive namespace from numpy and matplotlib\n"
     ]
    }
   ],
   "source": [
    "import pandas as pd\n",
    "import geopandas as gpd\n",
    "import numpy as np\n",
    "import pysal as ps\n",
    "import pylab as pl\n",
    "import seaborn\n",
    "%pylab inline"
   ]
  },
  {
   "cell_type": "markdown",
   "metadata": {},
   "source": [
    "### Buffer = 0.005"
   ]
  },
  {
   "cell_type": "code",
   "execution_count": 16,
   "metadata": {
    "collapsed": true
   },
   "outputs": [],
   "source": [
    "pg_rr_poly = gpd.read_file('./buffer_sjoin_pg_rr/sjoin_count_poly_NAD83_2263.geojson')"
   ]
  },
  {
   "cell_type": "code",
   "execution_count": 19,
   "metadata": {
    "collapsed": false
   },
   "outputs": [
    {
     "data": {
      "text/plain": [
       "(1235, 4)"
      ]
     },
     "execution_count": 19,
     "metadata": {},
     "output_type": "execute_result"
    }
   ],
   "source": [
    "pg_rr_poly.shape"
   ]
  },
  {
   "cell_type": "code",
   "execution_count": 28,
   "metadata": {
    "collapsed": false
   },
   "outputs": [
    {
     "data": {
      "text/plain": [
       "(1235, 4)"
      ]
     },
     "execution_count": 28,
     "metadata": {},
     "output_type": "execute_result"
    }
   ],
   "source": [
    "pg_rr_poly.dropna(subset=['count']).shape"
   ]
  },
  {
   "cell_type": "code",
   "execution_count": 27,
   "metadata": {
    "collapsed": false
   },
   "outputs": [
    {
     "name": "stdout",
     "output_type": "stream",
     "text": [
      "# of data = 1235\n",
      "             count\n",
      "count  1235.000000\n",
      "mean     37.545749\n",
      "std      67.896839\n",
      "min       0.000000\n",
      "25%       6.000000\n",
      "50%      16.000000\n",
      "75%      37.000000\n",
      "max     783.000000\n"
     ]
    },
    {
     "data": {
      "text/html": [
       "<div>\n",
       "<table border=\"1\" class=\"dataframe\">\n",
       "  <thead>\n",
       "    <tr style=\"text-align: right;\">\n",
       "      <th></th>\n",
       "      <th>Location</th>\n",
       "      <th>Name</th>\n",
       "      <th>count</th>\n",
       "      <th>geometry</th>\n",
       "    </tr>\n",
       "  </thead>\n",
       "  <tbody>\n",
       "    <tr>\n",
       "      <th>0</th>\n",
       "      <td>Noble, Franklin, Milton Sts</td>\n",
       "      <td>American Playground</td>\n",
       "      <td>56.0</td>\n",
       "      <td>POLYGON ((997304.2845535597 204801.5648228381,...</td>\n",
       "    </tr>\n",
       "    <tr>\n",
       "      <th>1</th>\n",
       "      <td>BAY PKWY &amp; CROPSEY AVENUE</td>\n",
       "      <td>Bensonhurst Park</td>\n",
       "      <td>18.0</td>\n",
       "      <td>POLYGON ((985694.0900923129 156743.2139048801,...</td>\n",
       "    </tr>\n",
       "    <tr>\n",
       "      <th>2</th>\n",
       "      <td>DUMONT AVE &amp; BRISTOL ST</td>\n",
       "      <td>Betsy Head Memorial Playground</td>\n",
       "      <td>23.0</td>\n",
       "      <td>POLYGON ((1010134.227252485 181239.7152448069,...</td>\n",
       "    </tr>\n",
       "    <tr>\n",
       "      <th>3</th>\n",
       "      <td>BROOKLYN AVE &amp; PROSPECT PL</td>\n",
       "      <td>Brower Park</td>\n",
       "      <td>24.0</td>\n",
       "      <td>POLYGON ((1001281.808773055 184656.5860198386,...</td>\n",
       "    </tr>\n",
       "    <tr>\n",
       "      <th>4</th>\n",
       "      <td>BROOKLYN AVE &amp; PROSPECT PL</td>\n",
       "      <td>Brower Park</td>\n",
       "      <td>22.0</td>\n",
       "      <td>POLYGON ((1001392.610943 184875.2611235979, 10...</td>\n",
       "    </tr>\n",
       "  </tbody>\n",
       "</table>\n",
       "</div>"
      ],
      "text/plain": [
       "                      Location                            Name  count  \\\n",
       "0  Noble, Franklin, Milton Sts             American Playground   56.0   \n",
       "1    BAY PKWY & CROPSEY AVENUE                Bensonhurst Park   18.0   \n",
       "2      DUMONT AVE & BRISTOL ST  Betsy Head Memorial Playground   23.0   \n",
       "3   BROOKLYN AVE & PROSPECT PL                     Brower Park   24.0   \n",
       "4   BROOKLYN AVE & PROSPECT PL                     Brower Park   22.0   \n",
       "\n",
       "                                            geometry  \n",
       "0  POLYGON ((997304.2845535597 204801.5648228381,...  \n",
       "1  POLYGON ((985694.0900923129 156743.2139048801,...  \n",
       "2  POLYGON ((1010134.227252485 181239.7152448069,...  \n",
       "3  POLYGON ((1001281.808773055 184656.5860198386,...  \n",
       "4  POLYGON ((1001392.610943 184875.2611235979, 10...  "
      ]
     },
     "execution_count": 27,
     "metadata": {},
     "output_type": "execute_result"
    }
   ],
   "source": [
    "print \"# of data = {}\".format(pg_rr_poly.shape[0])\n",
    "#pg_rr = pg_rr.loc[:,['Adaptive_S', 'Level', 'Location', 'Name', 'School_ID', 'count', 'geometry']]\n",
    "print pg_rr_poly.describe()\n",
    "pg_rr_poly.head()"
   ]
  },
  {
   "cell_type": "code",
   "execution_count": 30,
   "metadata": {
    "collapsed": true
   },
   "outputs": [],
   "source": [
    "pg_rr_poly.to_file(\"./buffer_sjoin_pg_rr/sjoin_count_poly_NAD83_2263\")"
   ]
  },
  {
   "cell_type": "markdown",
   "metadata": {},
   "source": [
    "<br/><br/>"
   ]
  },
  {
   "cell_type": "code",
   "execution_count": 31,
   "metadata": {
    "collapsed": false
   },
   "outputs": [],
   "source": [
    "knn = ps.knnW_from_shapefile(\"./buffer_sjoin_pg_rr/sjoin_count_poly_NAD83_2263/sjoin_count_poly_NAD83_2263.shp\",k=4)"
   ]
  },
  {
   "cell_type": "code",
   "execution_count": 32,
   "metadata": {
    "collapsed": false
   },
   "outputs": [],
   "source": [
    "knn.transform = 'r'"
   ]
  },
  {
   "cell_type": "code",
   "execution_count": 33,
   "metadata": {
    "collapsed": false
   },
   "outputs": [],
   "source": [
    "pg_rr_lag = ps.lag_spatial(knn, pg_rr_poly['count']) "
   ]
  },
  {
   "cell_type": "code",
   "execution_count": 34,
   "metadata": {
    "collapsed": false
   },
   "outputs": [
    {
     "data": {
      "text/plain": [
       "                 Quantiles                 \n",
       " \n",
       " Lower            Upper               Count\n",
       "===========================================\n",
       "          x[i] <=   5.500               128\n",
       "  5.500 < x[i] <=   8.500               120\n",
       "  8.500 < x[i] <=  12.000               139\n",
       " 12.000 < x[i] <=  15.750               112\n",
       " 15.750 < x[i] <=  20.500               122\n",
       " 20.500 < x[i] <=  26.250               123\n",
       " 26.250 < x[i] <=  34.700               120\n",
       " 34.700 < x[i] <=  46.000               125\n",
       " 46.000 < x[i] <=  79.500               122\n",
       " 79.500 < x[i] <= 569.000               124"
      ]
     },
     "execution_count": 34,
     "metadata": {},
     "output_type": "execute_result"
    }
   ],
   "source": [
    "ps.Quantiles(pg_rr_lag, k=10)"
   ]
  },
  {
   "cell_type": "code",
   "execution_count": 35,
   "metadata": {
    "collapsed": false
   },
   "outputs": [],
   "source": [
    "pg_rr_LISA = ps.Moran_Local(pg_rr_lag, knn, permutations=999)"
   ]
  },
  {
   "cell_type": "code",
   "execution_count": 36,
   "metadata": {
    "collapsed": false
   },
   "outputs": [],
   "source": [
    "s = pg_rr_LISA.p_sim < 0.05"
   ]
  },
  {
   "cell_type": "code",
   "execution_count": 38,
   "metadata": {
    "collapsed": false
   },
   "outputs": [
    {
     "data": {
      "text/plain": [
       "array([False, False, False, ..., False, False, False], dtype=bool)"
      ]
     },
     "execution_count": 38,
     "metadata": {},
     "output_type": "execute_result"
    }
   ],
   "source": [
    "s2 = (pg_rr_lag > mean(pg_rr_lag)) & (pg_rr_poly['count'] > mean(pg_rr_poly['count'])) &s\n",
    "s2.values"
   ]
  },
  {
   "cell_type": "code",
   "execution_count": 43,
   "metadata": {
    "collapsed": false
   },
   "outputs": [
    {
     "data": {
      "text/plain": [
       "75"
      ]
     },
     "execution_count": 43,
     "metadata": {},
     "output_type": "execute_result"
    }
   ],
   "source": [
    "s2[s2 == True].count()"
   ]
  },
  {
   "cell_type": "code",
   "execution_count": 51,
   "metadata": {
    "collapsed": false
   },
   "outputs": [
    {
     "data": {
      "text/html": [
       "<div>\n",
       "<table border=\"1\" class=\"dataframe\">\n",
       "  <thead>\n",
       "    <tr style=\"text-align: right;\">\n",
       "      <th></th>\n",
       "      <th>Location</th>\n",
       "      <th>Name</th>\n",
       "      <th>count</th>\n",
       "      <th>geometry</th>\n",
       "      <th>SpatialLag</th>\n",
       "      <th>pval</th>\n",
       "    </tr>\n",
       "  </thead>\n",
       "  <tbody>\n",
       "    <tr>\n",
       "      <th>0</th>\n",
       "      <td>Noble, Franklin, Milton Sts</td>\n",
       "      <td>American Playground</td>\n",
       "      <td>56.0</td>\n",
       "      <td>POLYGON ((997304.2845535597 204801.5648228381,...</td>\n",
       "      <td>58.25</td>\n",
       "      <td>0.223</td>\n",
       "    </tr>\n",
       "    <tr>\n",
       "      <th>1</th>\n",
       "      <td>BAY PKWY &amp; CROPSEY AVENUE</td>\n",
       "      <td>Bensonhurst Park</td>\n",
       "      <td>18.0</td>\n",
       "      <td>POLYGON ((985694.0900923129 156743.2139048801,...</td>\n",
       "      <td>39.50</td>\n",
       "      <td>0.296</td>\n",
       "    </tr>\n",
       "    <tr>\n",
       "      <th>2</th>\n",
       "      <td>DUMONT AVE &amp; BRISTOL ST</td>\n",
       "      <td>Betsy Head Memorial Playground</td>\n",
       "      <td>23.0</td>\n",
       "      <td>POLYGON ((1010134.227252485 181239.7152448069,...</td>\n",
       "      <td>19.25</td>\n",
       "      <td>0.276</td>\n",
       "    </tr>\n",
       "    <tr>\n",
       "      <th>3</th>\n",
       "      <td>BROOKLYN AVE &amp; PROSPECT PL</td>\n",
       "      <td>Brower Park</td>\n",
       "      <td>24.0</td>\n",
       "      <td>POLYGON ((1001281.808773055 184656.5860198386,...</td>\n",
       "      <td>34.75</td>\n",
       "      <td>0.467</td>\n",
       "    </tr>\n",
       "    <tr>\n",
       "      <th>4</th>\n",
       "      <td>BROOKLYN AVE &amp; PROSPECT PL</td>\n",
       "      <td>Brower Park</td>\n",
       "      <td>22.0</td>\n",
       "      <td>POLYGON ((1001392.610943 184875.2611235979, 10...</td>\n",
       "      <td>35.25</td>\n",
       "      <td>0.450</td>\n",
       "    </tr>\n",
       "  </tbody>\n",
       "</table>\n",
       "</div>"
      ],
      "text/plain": [
       "                      Location                            Name  count  \\\n",
       "0  Noble, Franklin, Milton Sts             American Playground   56.0   \n",
       "1    BAY PKWY & CROPSEY AVENUE                Bensonhurst Park   18.0   \n",
       "2      DUMONT AVE & BRISTOL ST  Betsy Head Memorial Playground   23.0   \n",
       "3   BROOKLYN AVE & PROSPECT PL                     Brower Park   24.0   \n",
       "4   BROOKLYN AVE & PROSPECT PL                     Brower Park   22.0   \n",
       "\n",
       "                                            geometry  SpatialLag   pval  \n",
       "0  POLYGON ((997304.2845535597 204801.5648228381,...       58.25  0.223  \n",
       "1  POLYGON ((985694.0900923129 156743.2139048801,...       39.50  0.296  \n",
       "2  POLYGON ((1010134.227252485 181239.7152448069,...       19.25  0.276  \n",
       "3  POLYGON ((1001281.808773055 184656.5860198386,...       34.75  0.467  \n",
       "4  POLYGON ((1001392.610943 184875.2611235979, 10...       35.25  0.450  "
      ]
     },
     "execution_count": 51,
     "metadata": {},
     "output_type": "execute_result"
    }
   ],
   "source": [
    "pg_rr = pg_rr_poly.copy()\n",
    "pg_rr['SpatialLag'] = pg_rr_lag\n",
    "pg_rr['pval'] = pg_rr_LISA.p_sim"
   ]
  },
  {
   "cell_type": "code",
   "execution_count": 56,
   "metadata": {
    "collapsed": false
   },
   "outputs": [],
   "source": [
    "pg_rr.to_csv('SA_pg_rr.csv')"
   ]
  },
  {
   "cell_type": "code",
   "execution_count": 57,
   "metadata": {
    "collapsed": true
   },
   "outputs": [],
   "source": [
    "pg_rr.to_file('SA_pg_rr')"
   ]
  },
  {
   "cell_type": "code",
   "execution_count": 47,
   "metadata": {
    "collapsed": false
   },
   "outputs": [
    {
     "data": {
      "text/plain": [
       "<matplotlib.collections.LineCollection at 0x11b485610>"
      ]
     },
     "execution_count": 47,
     "metadata": {},
     "output_type": "execute_result"
    },
    {
     "data": {
      "image/png": "[encoded data removed]",
      "text/plain": [
       "<matplotlib.figure.Figure at 0x11abf7f90>"
      ]
     },
     "metadata": {},
     "output_type": "display_data"
    }
   ],
   "source": [
    "pl.figure(figsize=(10,10))\n",
    "pl.plot(pg_rr_poly['count'], pg_rr_lag , 'k.', alpha=0.2)\n",
    "pl.plot(pg_rr_poly['count'][s2.values], pg_rr_lag[s2.values] , 'r.')\n",
    "#pl.plot(pg_rr['count'], pg_rr_lag , '.', alpha=0.4)\n",
    "pl.hlines(median(pg_rr_lag),0,800)\n",
    "pl.hlines(mean(pg_rr_lag),0,800, color='green')\n",
    "pl.vlines(median(pg_rr_poly['count']),0,600)\n",
    "pl.vlines(mean(pg_rr_poly['count']),0,600, color='green')"
   ]
  },
  {
   "cell_type": "code",
   "execution_count": 59,
   "metadata": {
    "collapsed": false
   },
   "outputs": [],
   "source": [
    "pg_rr[s2].to_csv('SA_pg_rr_ClsuterHH.csv')\n",
    "pg_rr[s2].to_file('SA_pg_rr_ClsuterHH')"
   ]
  },
  {
   "cell_type": "code",
   "execution_count": 96,
   "metadata": {
    "collapsed": false
   },
   "outputs": [
    {
     "data": {
      "text/plain": [
       "(1235,)"
      ]
     },
     "execution_count": 96,
     "metadata": {},
     "output_type": "execute_result"
    }
   ],
   "source": [
    "s2.shape"
   ]
  },
  {
   "cell_type": "code",
   "execution_count": 119,
   "metadata": {
    "collapsed": false
   },
   "outputs": [],
   "source": [
    "pg_rr['HHPval']=s2"
   ]
  },
  {
   "cell_type": "code",
   "execution_count": 131,
   "metadata": {
    "collapsed": true
   },
   "outputs": [],
   "source": [
    "points=gpd.read_file('./buffer_sjoin_pg_rr/sjoin_count_point_NAD83_2263.geojson')"
   ]
  },
  {
   "cell_type": "code",
   "execution_count": 132,
   "metadata": {
    "collapsed": true
   },
   "outputs": [],
   "source": [
    "pg_rr_points = pg_rr.copy()\n",
    "pg_rr_points['geometry'] = points['geometry']"
   ]
  },
  {
   "cell_type": "code",
   "execution_count": 137,
   "metadata": {
    "collapsed": false
   },
   "outputs": [],
   "source": [
    "pg_rr_points['HHPval'] = pg_rr_points['HHPval']*1"
   ]
  },
  {
   "cell_type": "code",
   "execution_count": 139,
   "metadata": {
    "collapsed": false
   },
   "outputs": [],
   "source": [
    "pg_rr_points.to_file(\"SA_pg_rr_point\")"
   ]
  },
  {
   "cell_type": "code",
   "execution_count": 142,
   "metadata": {
    "collapsed": true
   },
   "outputs": [],
   "source": [
    "pg_rr_points[pg_rr_points.HHPval == 1].to_file(\"SA_pg_rr_point_HHPval_1\")"
   ]
  },
  {
   "cell_type": "code",
   "execution_count": null,
   "metadata": {
    "collapsed": true
   },
   "outputs": [],
   "source": []
  },
  {
   "cell_type": "code",
   "execution_count": null,
   "metadata": {
    "collapsed": true
   },
   "outputs": [],
   "source": [
    "End"
   ]
  },
  {
   "cell_type": "markdown",
   "metadata": {},
   "source": [
    "Merge"
   ]
  },
  {
   "cell_type": "code",
   "execution_count": 113,
   "metadata": {
    "collapsed": false
   },
   "outputs": [
    {
     "data": {
      "text/plain": [
       "(1235, 6)"
      ]
     },
     "execution_count": 113,
     "metadata": {},
     "output_type": "execute_result"
    }
   ],
   "source": [
    "points.shape"
   ]
  },
  {
   "cell_type": "code",
   "execution_count": 114,
   "metadata": {
    "collapsed": false
   },
   "outputs": [],
   "source": [
    "#points = points.loc[:,['Name', 'geometry','Location', 'count']]"
   ]
  },
  {
   "cell_type": "code",
   "execution_count": 115,
   "metadata": {
    "collapsed": false
   },
   "outputs": [],
   "source": [
    "#pg_rr_point = pd.merge(pg_rr,points,on=['Name', 'Location', 'count'])"
   ]
  },
  {
   "cell_type": "code",
   "execution_count": 116,
   "metadata": {
    "collapsed": false
   },
   "outputs": [
    {
     "data": {
      "text/html": [
       "<div>\n",
       "<table border=\"1\" class=\"dataframe\">\n",
       "  <thead>\n",
       "    <tr style=\"text-align: right;\">\n",
       "      <th></th>\n",
       "      <th>Location</th>\n",
       "      <th>Name</th>\n",
       "      <th>count</th>\n",
       "      <th>geometry_x</th>\n",
       "      <th>SpatialLag</th>\n",
       "      <th>pval</th>\n",
       "      <th>geometry_y</th>\n",
       "    </tr>\n",
       "  </thead>\n",
       "  <tbody>\n",
       "    <tr>\n",
       "      <th>0</th>\n",
       "      <td>Noble, Franklin, Milton Sts</td>\n",
       "      <td>American Playground</td>\n",
       "      <td>56.0</td>\n",
       "      <td>POLYGON ((997304.2845535597 204801.5648228381,...</td>\n",
       "      <td>58.25</td>\n",
       "      <td>0.223</td>\n",
       "      <td>POINT (995918.4795122909 204800.8592421887)</td>\n",
       "    </tr>\n",
       "    <tr>\n",
       "      <th>1</th>\n",
       "      <td>BAY PKWY &amp; CROPSEY AVENUE</td>\n",
       "      <td>Bensonhurst Park</td>\n",
       "      <td>18.0</td>\n",
       "      <td>POLYGON ((985694.0900923129 156743.2139048801,...</td>\n",
       "      <td>39.50</td>\n",
       "      <td>0.296</td>\n",
       "      <td>POINT (984305.5419266649 156743.1711058078)</td>\n",
       "    </tr>\n",
       "  </tbody>\n",
       "</table>\n",
       "</div>"
      ],
      "text/plain": [
       "                      Location                 Name  count  \\\n",
       "0  Noble, Franklin, Milton Sts  American Playground   56.0   \n",
       "1    BAY PKWY & CROPSEY AVENUE     Bensonhurst Park   18.0   \n",
       "\n",
       "                                          geometry_x  SpatialLag   pval  \\\n",
       "0  POLYGON ((997304.2845535597 204801.5648228381,...       58.25  0.223   \n",
       "1  POLYGON ((985694.0900923129 156743.2139048801,...       39.50  0.296   \n",
       "\n",
       "                                    geometry_y  \n",
       "0  POINT (995918.4795122909 204800.8592421887)  \n",
       "1  POINT (984305.5419266649 156743.1711058078)  "
      ]
     },
     "execution_count": 116,
     "metadata": {},
     "output_type": "execute_result"
    }
   ],
   "source": [
    "pg_rr_point.head(2)"
   ]
  },
  {
   "cell_type": "code",
   "execution_count": 117,
   "metadata": {
    "collapsed": false
   },
   "outputs": [
    {
     "data": {
      "text/plain": [
       "(1234, 7)"
      ]
     },
     "execution_count": 117,
     "metadata": {},
     "output_type": "execute_result"
    }
   ],
   "source": [
    "pg_rr_point.shape"
   ]
  },
  {
   "cell_type": "code",
   "execution_count": 83,
   "metadata": {
    "collapsed": true
   },
   "outputs": [],
   "source": [
    "pg_rr_point.to_file(\"SA_pg_rr_point\")"
   ]
  }
 ],
 "metadata": {
  "anaconda-cloud": {},
  "kernelspec": {
   "display_name": "Python [default]",
   "language": "python",
   "name": "python2"
  },
  "language_info": {
   "codemirror_mode": {
    "name": "ipython",
    "version": 2
   },
   "file_extension": ".py",
   "mimetype": "text/x-python",
   "name": "python",
   "nbconvert_exporter": "python",
   "pygments_lexer": "ipython2",
   "version": "2.7.12"
  }
 },
 "nbformat": 4,
 "nbformat_minor": 1
}
