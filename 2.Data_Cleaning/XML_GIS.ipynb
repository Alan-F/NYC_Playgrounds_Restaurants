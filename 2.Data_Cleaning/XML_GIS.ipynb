{
 "cells": [
  {
   "cell_type": "code",
   "execution_count": 1,
   "metadata": {
    "collapsed": true
   },
   "outputs": [],
   "source": [
    "# Terminal: pip install xltodict : transform xml to dict-like obeject \n",
    "import xmltodict\n",
    "import pandas as pd\n",
    "import geopandas as gpd\n",
    "from shapely.geometry import Point"
   ]
  },
  {
   "cell_type": "code",
   "execution_count": 2,
   "metadata": {
    "collapsed": true
   },
   "outputs": [],
   "source": [
    "# read xml file\n",
    "with open('DPR_Playgrounds_001.xml') as fd:\n",
    "    doc = xmltodict.parse(fd.read())"
   ]
  },
  {
   "cell_type": "code",
   "execution_count": 3,
   "metadata": {
    "collapsed": false
   },
   "outputs": [],
   "source": [
    "# transform xml to dic, then to pd.DateFrame\n",
    "doc_len = len(doc['playgrounds']['facility'])\n",
    "b = pd.DataFrame()\n",
    "for i in xrange(doc_len):\n",
    "    a = doc['playgrounds']['facility'][i]\n",
    "    b = b.append(pd.Series(dict(a)), ignore_index=True)"
   ]
  },
  {
   "cell_type": "code",
   "execution_count": 4,
   "metadata": {
    "collapsed": false
   },
   "outputs": [
    {
     "name": "stdout",
     "output_type": "stream",
     "text": [
      "delete 21 NA rows\n"
     ]
    }
   ],
   "source": [
    "# transform 'lat' and 'lon' to numeric\n",
    "b['lat'] = pd.to_numeric(b['lat'])\n",
    "b['lon'] = pd.to_numeric(b['lon'])\n",
    "#dropna\n",
    "row1 = b.shape[0]\n",
    "b = b.dropna(subset = ['lat', 'lon'])\n",
    "row2 = b.shape[0]\n",
    "print 'delete {} NA rows'.format(row1-row2)\n",
    "# create 'geometry'\n",
    "b[\"geometry\"] = b.apply(lambda row: Point(row[\"lon\"], row[\"lat\"]), axis=1)"
   ]
  },
  {
   "cell_type": "code",
   "execution_count": 5,
   "metadata": {
    "collapsed": true
   },
   "outputs": [],
   "source": [
    "# create GeoDataFrame\n",
    "c = gpd.GeoDataFrame(b, geometry=\"geometry\")\n",
    "# set coordinate system\n",
    "c.crs = {\"init\": \"epsg:4326\"}"
   ]
  },
  {
   "cell_type": "code",
   "execution_count": 6,
   "metadata": {
    "collapsed": false
   },
   "outputs": [
    {
     "data": {
      "text/html": [
       "<div>\n",
       "<table border=\"1\" class=\"dataframe\">\n",
       "  <thead>\n",
       "    <tr style=\"text-align: right;\">\n",
       "      <th></th>\n",
       "      <th>Accessible</th>\n",
       "      <th>Adaptive_Swing</th>\n",
       "      <th>Level</th>\n",
       "      <th>Location</th>\n",
       "      <th>Name</th>\n",
       "      <th>Playground_ID</th>\n",
       "      <th>Prop_ID</th>\n",
       "      <th>School_ID</th>\n",
       "      <th>Status</th>\n",
       "      <th>lat</th>\n",
       "      <th>lon</th>\n",
       "      <th>geometry</th>\n",
       "    </tr>\n",
       "  </thead>\n",
       "  <tbody>\n",
       "    <tr>\n",
       "      <th>0</th>\n",
       "      <td>N</td>\n",
       "      <td>None</td>\n",
       "      <td>None</td>\n",
       "      <td>Noble, Franklin, Milton Sts</td>\n",
       "      <td>American Playground</td>\n",
       "      <td>B001</td>\n",
       "      <td>B001</td>\n",
       "      <td>None</td>\n",
       "      <td>None</td>\n",
       "      <td>40.7288</td>\n",
       "      <td>-73.9579</td>\n",
       "      <td>POINT (-73.9579 40.7288)</td>\n",
       "    </tr>\n",
       "    <tr>\n",
       "      <th>1</th>\n",
       "      <td>Y</td>\n",
       "      <td>N</td>\n",
       "      <td>4</td>\n",
       "      <td>BAY PKWY &amp; CROPSEY AVENUE</td>\n",
       "      <td>Bensonhurst Park</td>\n",
       "      <td>B007-01</td>\n",
       "      <td>B007</td>\n",
       "      <td>None</td>\n",
       "      <td>None</td>\n",
       "      <td>40.5969</td>\n",
       "      <td>-73.9998</td>\n",
       "      <td>POINT (-73.99979999999999 40.5969)</td>\n",
       "    </tr>\n",
       "  </tbody>\n",
       "</table>\n",
       "</div>"
      ],
      "text/plain": [
       "  Accessible Adaptive_Swing Level                     Location  \\\n",
       "0          N           None  None  Noble, Franklin, Milton Sts   \n",
       "1          Y              N     4    BAY PKWY & CROPSEY AVENUE   \n",
       "\n",
       "                  Name Playground_ID Prop_ID School_ID Status      lat  \\\n",
       "0  American Playground          B001    B001      None   None  40.7288   \n",
       "1     Bensonhurst Park       B007-01    B007      None   None  40.5969   \n",
       "\n",
       "       lon                            geometry  \n",
       "0 -73.9579            POINT (-73.9579 40.7288)  \n",
       "1 -73.9998  POINT (-73.99979999999999 40.5969)  "
      ]
     },
     "execution_count": 6,
     "metadata": {},
     "output_type": "execute_result"
    }
   ],
   "source": [
    "c.head(2)"
   ]
  },
  {
   "cell_type": "code",
   "execution_count": 7,
   "metadata": {
    "collapsed": false
   },
   "outputs": [],
   "source": [
    "# create shapefile and related files\n",
    "c.to_file(\"playground.shp\")"
   ]
  }
 ],
 "metadata": {
  "anaconda-cloud": {},
  "kernelspec": {
   "display_name": "Python [default]",
   "language": "python",
   "name": "python2"
  },
  "language_info": {
   "codemirror_mode": {
    "name": "ipython",
    "version": 2
   },
   "file_extension": ".py",
   "mimetype": "text/x-python",
   "name": "python",
   "nbconvert_exporter": "python",
   "pygments_lexer": "ipython2",
   "version": "2.7.12"
  }
 },
 "nbformat": 4,
 "nbformat_minor": 1
}
