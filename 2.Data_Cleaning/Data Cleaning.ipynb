{
 "cells": [
  {
   "cell_type": "code",
   "execution_count": 7,
   "metadata": {
    "collapsed": false
   },
   "outputs": [
    {
     "name": "stdout",
     "output_type": "stream",
     "text": [
      "Populating the interactive namespace from numpy and matplotlib\n"
     ]
    }
   ],
   "source": [
    "import pandas as pd\n",
    "import geopandas as gpd\n",
    "import numpy as np\n",
    "from fiona.crs import from_epsg\n",
    "from shapely.geometry import Point, Polygon\n",
    "import pysal as ps\n",
    "import pylab as pl\n",
    "%pylab inline\n",
    "import seaborn\n",
    "import re"
   ]
  },
  {
   "cell_type": "markdown",
   "metadata": {},
   "source": [
    "# 1. Playground: Data Cleaning"
   ]
  },
  {
   "cell_type": "code",
   "execution_count": 2,
   "metadata": {
    "collapsed": false
   },
   "outputs": [
    {
     "name": "stdout",
     "output_type": "stream",
     "text": [
      "# of all pg = 1236\n",
      "pg.crs = {'init': u'epsg:4326'}\n"
     ]
    },
    {
     "data": {
      "text/html": [
       "<div>\n",
       "<table border=\"1\" class=\"dataframe\">\n",
       "  <thead>\n",
       "    <tr style=\"text-align: right;\">\n",
       "      <th></th>\n",
       "      <th>Location</th>\n",
       "      <th>Name</th>\n",
       "      <th>geometry</th>\n",
       "    </tr>\n",
       "  </thead>\n",
       "  <tbody>\n",
       "    <tr>\n",
       "      <th>0</th>\n",
       "      <td>Noble, Franklin, Milton Sts</td>\n",
       "      <td>American Playground</td>\n",
       "      <td>POINT (-73.9579 40.7288)</td>\n",
       "    </tr>\n",
       "    <tr>\n",
       "      <th>1</th>\n",
       "      <td>BAY PKWY &amp; CROPSEY AVENUE</td>\n",
       "      <td>Bensonhurst Park</td>\n",
       "      <td>POINT (-73.99979999999999 40.5969)</td>\n",
       "    </tr>\n",
       "  </tbody>\n",
       "</table>\n",
       "</div>"
      ],
      "text/plain": [
       "                      Location                 Name  \\\n",
       "0  Noble, Franklin, Milton Sts  American Playground   \n",
       "1    BAY PKWY & CROPSEY AVENUE     Bensonhurst Park   \n",
       "\n",
       "                             geometry  \n",
       "0            POINT (-73.9579 40.7288)  \n",
       "1  POINT (-73.99979999999999 40.5969)  "
      ]
     },
     "execution_count": 2,
     "metadata": {},
     "output_type": "execute_result"
    }
   ],
   "source": [
    "pg = gpd.read_file(filename='./playground/playground.shp')\n",
    "print \"# of all pg = {}\".format(pg.shape[0])\n",
    "\n",
    "# Delete the data with Accessible == N\n",
    "# pg = pg[pg.Accessible != 'N']\n",
    "# print \"# of pg with Accessible == 'Y' = {}\".format(pg.shape[0])\n",
    "\n",
    "# keep the data with Status == 'open to the public' \n",
    "# pg = pg[pg['Status'].apply(lambda x: x != None)]\n",
    "# pg.Status = map(str.lower, map(str, pg.Status))\n",
    "# pg = pg[pg.Status == 'open to the public']\n",
    "# print \"# of pg with Accessible == 'Y' & Status =='open to the public' = {}\".format(pg.shape[0])\n",
    "\n",
    "# Reset index\n",
    "pg = pg.reset_index(drop =True)\n",
    "\n",
    "# pg with selected cols\n",
    "pg = pg.loc[:,['Location', 'Name', 'geometry']]\n",
    "\n",
    "# View\n",
    "print \"pg.crs = {}\".format(pg.crs)\n",
    "pg.head(2)"
   ]
  },
  {
   "cell_type": "code",
   "execution_count": 3,
   "metadata": {
    "collapsed": false
   },
   "outputs": [],
   "source": [
    "# clean outlier, missing lat, based on obeservation in QGIS.\n",
    "pg = pg[pg.Name != 'Slide Mountain']"
   ]
  },
  {
   "cell_type": "code",
   "execution_count": 4,
   "metadata": {
    "collapsed": false,
    "scrolled": true
   },
   "outputs": [],
   "source": [
    "pg.to_file('pg')"
   ]
  },
  {
   "cell_type": "markdown",
   "metadata": {},
   "source": [
    "<br/>\n",
    "# 2. Restaurant: Data Cleaning"
   ]
  },
  {
   "cell_type": "code",
   "execution_count": 5,
   "metadata": {
    "collapsed": false
   },
   "outputs": [],
   "source": [
    "# rr for restaurant\n",
    "rr = pd.read_csv('NYCRestaurant.csv', header=None)\n",
    "rr = rr.iloc[:, [0,1,2]]\n",
    "rr = rr.rename(columns={0: 'info', 1: 'lat', 2: 'lon'})\n",
    "\n",
    "# geometry\n",
    "rr['lonlat'] = zip(rr.lon, rr.lat)\n",
    "rr['geometry'] = rr[['lonlat']].applymap(lambda x: Point(x))\n",
    "rr = rr.loc[:, ['info', 'geometry']]\n",
    "\n",
    "# to GeoDataFrame\n",
    "rr = gpd.GeoDataFrame(rr)\n",
    "rr.crs = pg.crs"
   ]
  },
  {
   "cell_type": "code",
   "execution_count": 6,
   "metadata": {
    "collapsed": false
   },
   "outputs": [],
   "source": [
    "rr.to_file(\"rr\")"
   ]
  }
 ],
 "metadata": {
  "anaconda-cloud": {},
  "kernelspec": {
   "display_name": "Python [default]",
   "language": "python",
   "name": "python2"
  },
  "language_info": {
   "codemirror_mode": {
    "name": "ipython",
    "version": 2
   },
   "file_extension": ".py",
   "mimetype": "text/x-python",
   "name": "python",
   "nbconvert_exporter": "python",
   "pygments_lexer": "ipython2",
   "version": "2.7.12"
  }
 },
 "nbformat": 4,
 "nbformat_minor": 1
}
